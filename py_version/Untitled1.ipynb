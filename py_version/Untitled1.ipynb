{
 "cells": [
  {
   "cell_type": "code",
   "execution_count": 3,
   "id": "05556154-23ce-40f0-9bc3-d03d728d059f",
   "metadata": {},
   "outputs": [
    {
     "data": {
      "text/plain": [
       "'C:\\\\Users\\\\25061\\\\Desktop\\\\re_GPTVoiceTasker\\\\py_version\\\\render.html'"
      ]
     },
     "execution_count": 3,
     "metadata": {},
     "output_type": "execute_result"
    }
   ],
   "source": [
    "from pyecharts import options as opts\n",
    "from pyecharts.charts import Graph\n",
    "\n",
    "nodes = [\n",
    "    {\"name\": \"结点1\", \"symbolSize\": 10, \"symbol\": \"image://data/com.tencent.mm/screenshots/screen_2024-10-31_133305.png\"},\n",
    "    {\"name\": \"结点2\", \"symbolSize\": 20},\n",
    "    {\"name\": \"结点3\", \"symbolSize\": 30},\n",
    "    {\"name\": \"结点4\", \"symbolSize\": 40},\n",
    "    {\"name\": \"结点5\", \"symbolSize\": 50},\n",
    "    {\"name\": \"结点6\", \"symbolSize\": 40},\n",
    "    {\"name\": \"结点7\", \"symbolSize\": 30},\n",
    "    {\"name\": \"结点8\", \"symbolSize\": 20},\n",
    "]\n",
    "links = []\n",
    "for i in nodes:\n",
    "    for j in nodes:\n",
    "        links.append({\"source\": i.get(\"name\"), \"target\": j.get(\"name\")})\n",
    "c = (\n",
    "    Graph()\n",
    "    .add(\"\", nodes, links, repulsion=8000)\n",
    "    .set_global_opts(title_opts=opts.TitleOpts(title=\"Graph-基本示例\"))\n",
    ")\n",
    "c.render()"
   ]
  },
  {
   "cell_type": "code",
   "execution_count": null,
   "id": "00a3d1df-8391-4982-8fc7-d6bcee7fbf7f",
   "metadata": {},
   "outputs": [],
   "source": []
  }
 ],
 "metadata": {
  "kernelspec": {
   "display_name": "test",
   "language": "python",
   "name": "test"
  },
  "language_info": {
   "codemirror_mode": {
    "name": "ipython",
    "version": 3
   },
   "file_extension": ".py",
   "mimetype": "text/x-python",
   "name": "python",
   "nbconvert_exporter": "python",
   "pygments_lexer": "ipython3",
   "version": "3.9.20"
  }
 },
 "nbformat": 4,
 "nbformat_minor": 5
}
