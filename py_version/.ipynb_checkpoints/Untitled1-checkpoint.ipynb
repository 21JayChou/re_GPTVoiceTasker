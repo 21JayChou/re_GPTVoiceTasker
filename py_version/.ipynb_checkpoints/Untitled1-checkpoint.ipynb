{
 "cells": [
  {
   "cell_type": "code",
   "execution_count": 3,
   "id": "05556154-23ce-40f0-9bc3-d03d728d059f",
   "metadata": {},
   "outputs": [
    {
     "data": {
      "application/vnd.jupyter.widget-view+json": {
       "model_id": "00b7314a07ae46ec982bd04668cddf42",
       "version_major": 2,
       "version_minor": 0
      },
      "text/plain": [
       "VBox(children=(Figure(axes=[Axis(label='X Axis', scale=LinearScale()), Axis(label='Y Axis', orientation='verti…"
      ]
     },
     "execution_count": 3,
     "metadata": {},
     "output_type": "execute_result"
    }
   ],
   "source": [
    "import bqplot as bq\n",
    "import numpy as np\n",
    "from ipywidgets import VBox\n",
    " \n",
    "# 生成数据\n",
    "np.random.seed(0)\n",
    "x_data = np.random.randn(100)\n",
    "y_data = np.random.randn(100)\n",
    " \n",
    "# 创建轴\n",
    "x_sc = bq.LinearScale()\n",
    "y_sc = bq.LinearScale()\n",
    " \n",
    "ax_x = bq.Axis(scale=x_sc, label='X Axis')\n",
    "ax_y = bq.Axis(scale=y_sc, orientation='vertical', label='Y Axis')\n",
    " \n",
    "# 创建散点图\n",
    "scatter = bq.Scatter(x=x_data, y=y_data, scales={'x': x_sc, 'y': y_sc})\n",
    " \n",
    "# 创建图表\n",
    "fig = bq.Figure(marks=[scatter], axes=[ax_x, ax_y], title='Simple Scatter Plot')\n",
    " \n",
    "# 显示图表\n",
    "VBox([fig])"
   ]
  },
  {
   "cell_type": "code",
   "execution_count": null,
   "id": "aaac43d6-9005-4cbb-afb5-0d6a8c53fd59",
   "metadata": {},
   "outputs": [],
   "source": []
  }
 ],
 "metadata": {
  "kernelspec": {
   "display_name": "test",
   "language": "python",
   "name": "test"
  },
  "language_info": {
   "codemirror_mode": {
    "name": "ipython",
    "version": 3
   },
   "file_extension": ".py",
   "mimetype": "text/x-python",
   "name": "python",
   "nbconvert_exporter": "python",
   "pygments_lexer": "ipython3",
   "version": "3.9.20"
  }
 },
 "nbformat": 4,
 "nbformat_minor": 5
}
